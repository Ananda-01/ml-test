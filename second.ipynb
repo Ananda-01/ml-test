{
 "cells": [
  {
   "cell_type": "code",
   "execution_count": 1,
   "id": "8eb37f1e-26f9-439c-850a-346822c0b038",
   "metadata": {},
   "outputs": [
    {
     "name": "stdout",
     "output_type": "stream",
     "text": [
      "Hello Ananda\n"
     ]
    }
   ],
   "source": [
    "print(\"Hello Ananda\")"
   ]
  },
  {
   "cell_type": "code",
   "execution_count": 2,
   "id": "b3ddd0be-d851-40b7-afb1-4c3b3ef0bcb6",
   "metadata": {},
   "outputs": [
    {
     "name": "stdout",
     "output_type": "stream",
     "text": [
      "Don't worry so much\n"
     ]
    }
   ],
   "source": [
    "print(\"Don't worry so much\")"
   ]
  },
  {
   "cell_type": "code",
   "execution_count": 3,
   "id": "23e947a6-8820-4f5e-8732-0da4237415e6",
   "metadata": {},
   "outputs": [
    {
     "name": "stdout",
     "output_type": "stream",
     "text": [
      "Everything will be alright\n"
     ]
    }
   ],
   "source": [
    "print(\"Everything will be alright\")"
   ]
  },
  {
   "cell_type": "code",
   "execution_count": null,
   "id": "ea0f071c-0580-4c60-aebb-b68b913106ca",
   "metadata": {},
   "outputs": [],
   "source": []
  }
 ],
 "metadata": {
  "kernelspec": {
   "display_name": "Python 3 (ipykernel)",
   "language": "python",
   "name": "python3"
  },
  "language_info": {
   "codemirror_mode": {
    "name": "ipython",
    "version": 3
   },
   "file_extension": ".py",
   "mimetype": "text/x-python",
   "name": "python",
   "nbconvert_exporter": "python",
   "pygments_lexer": "ipython3",
   "version": "3.12.7"
  }
 },
 "nbformat": 4,
 "nbformat_minor": 5
}
